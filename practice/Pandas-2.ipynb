{
 "cells": [
  {
   "cell_type": "markdown",
   "metadata": {},
   "source": [
    "# Problem 1\n",
    "\n",
    "- Open up a new IPython notebook\n",
    "- Download [NBA_players_2015.csv](https://www.kaggle.com/uciml/iris/) \n",
    "- Load it in Pandas into a variable called nba_df"
   ]
  },
  {
   "cell_type": "markdown",
   "metadata": {},
   "source": [
    "# Problem 2\n",
    "\n",
    "- What's the shape of  the NBA dataset?\n",
    "- Summarize the dataset (hint: use `.describe()` to summarize the data)\n",
    "- Sort the data alphabetically using player name (hint: use `.sort_values()` to sort data)\n",
    "- Create three subgroups. One group for each position. "
   ]
  }
 ],
 "metadata": {
  "kernelspec": {
   "display_name": "Python 3",
   "language": "python",
   "name": "python3"
  },
  "language_info": {
   "codemirror_mode": {
    "name": "ipython",
    "version": 3
   },
   "file_extension": ".py",
   "mimetype": "text/x-python",
   "name": "python",
   "nbconvert_exporter": "python",
   "pygments_lexer": "ipython3",
   "version": "3.7.10"
  }
 },
 "nbformat": 4,
 "nbformat_minor": 2
}
